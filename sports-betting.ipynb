{
 "cells": [
  {
   "cell_type": "code",
   "execution_count": 1,
   "id": "7d473d58-3110-4c8a-b817-d81f624a7f2c",
   "metadata": {},
   "outputs": [],
   "source": [
    "from typing import List, Dict\n",
    "import requests\n",
    "from dotenv import load_dotenv\n",
    "import os"
   ]
  },
  {
   "cell_type": "code",
   "execution_count": 2,
   "id": "5428065d-f272-4813-87fa-e6017e129139",
   "metadata": {},
   "outputs": [],
   "source": [
    "load_dotenv()\n",
    "API_KEY = os.getenv(\"ODDS_API_KEY\")"
   ]
  },
  {
   "cell_type": "code",
   "execution_count": 3,
   "id": "cd773674-e82a-4e6f-9aa4-7c0955951494",
   "metadata": {},
   "outputs": [],
   "source": [
    "def find_arbitrage_opportunities(api_key: str, sport_key: str, total_stake: float = 100.0) -> None:\n",
    "    \"\"\"\n",
    "    Fetches odds for a specific sport, identifies arbitrage opportunities,\n",
    "    and prints betting details including guaranteed profit.\n",
    "    \"\"\"\n",
    "    # Fetch odds\n",
    "    url = f\"https://api.the-odds-api.com/v4/sports/{sport_key}/odds\"\n",
    "    response = requests.get(url, params={\n",
    "        \"api_key\": api_key,\n",
    "        \"regions\": \"us\",\n",
    "        \"markets\": \"h2h\"\n",
    "    })\n",
    "    response.raise_for_status()\n",
    "    events = response.json()\n",
    "\n",
    "    for event in events:\n",
    "        best_odds = {}\n",
    "        best_bookmakers = {}\n",
    "        for bookmaker in event['bookmakers']:\n",
    "            for market in bookmaker['markets']:\n",
    "                if market['key'] == 'h2h':\n",
    "                    for outcome in market['outcomes']:\n",
    "                        if outcome['name'] not in best_odds or outcome['price'] > best_odds[outcome['name']]:\n",
    "                            best_odds[outcome['name']] = outcome['price']\n",
    "                            best_bookmakers[outcome['name']] = bookmaker['title']\n",
    "        if len(best_odds) >= 2:\n",
    "            implied_probs = [1 / odd for odd in best_odds.values()]\n",
    "            if sum(implied_probs) < 1:\n",
    "                stakes = [(total_stake * prob) / sum(implied_probs) for prob in implied_probs]\n",
    "                profit = list(best_odds.values())[0] * stakes[0] - total_stake\n",
    "                print(f\"Event: {event['home_team']} vs {event['away_team']}\")\n",
    "                print(f\"  Arbitrage opportunity found!\")\n",
    "                for idx, (team, odds) in enumerate(best_odds.items()):\n",
    "                    print(f\"    Team: {team}, Best Odds: {odds}, Bookmaker: {best_bookmakers[team]}, Stake: ${stakes[idx]:.2f}\")\n",
    "                print(f\"  Guaranteed Profit: ${profit:.2f}\\n\")"
   ]
  },
  {
   "cell_type": "code",
   "execution_count": 4,
   "id": "ebe4f804-21b7-46df-b4f6-9b25c6e3a0cc",
   "metadata": {},
   "outputs": [
    {
     "name": "stdout",
     "output_type": "stream",
     "text": [
      "Event: Philadelphia 76ers vs Orlando Magic\n",
      "  Arbitrage opportunity found!\n",
      "    Team: Orlando Magic, Best Odds: 3.05, Bookmaker: MyBookie.ag, Stake: $34.69\n",
      "    Team: Philadelphia 76ers, Best Odds: 1.62, Bookmaker: BetMGM, Stake: $65.31\n",
      "  Guaranteed Profit: $5.80\n",
      "\n",
      "Event: San Antonio Spurs vs Sacramento Kings\n",
      "  Arbitrage opportunity found!\n",
      "    Team: Sacramento Kings, Best Odds: 1.5, Bookmaker: MyBookie.ag, Stake: $74.58\n",
      "    Team: San Antonio Spurs, Best Odds: 4.4, Bookmaker: DraftKings, Stake: $25.42\n",
      "  Guaranteed Profit: $11.86\n",
      "\n",
      "Event: Chicago Bulls vs Indiana Pacers\n",
      "  Arbitrage opportunity found!\n",
      "    Team: Chicago Bulls, Best Odds: 5.0, Bookmaker: FanDuel, Stake: $27.54\n",
      "    Team: Indiana Pacers, Best Odds: 1.9, Bookmaker: MyBookie.ag, Stake: $72.46\n",
      "  Guaranteed Profit: $37.68\n",
      "\n"
     ]
    }
   ],
   "source": [
    "find_arbitrage_opportunities(API_KEY, \"basketball_nba\")"
   ]
  },
  {
   "cell_type": "code",
   "execution_count": 5,
   "id": "3c770e02-d273-48da-93f2-d338856d22b8",
   "metadata": {},
   "outputs": [
    {
     "data": {
      "text/plain": [
       "\"\\nKey: americanfootball_ncaaf, Title: NCAAF, Description: US College Football\\nKey: americanfootball_ncaaf_championship_winner, Title: NCAAF Championship Winner, Description: US College Football Championship Winner\\nKey: americanfootball_nfl, Title: NFL, Description: US Football\\nKey: americanfootball_nfl_super_bowl_winner, Title: NFL Super Bowl Winner, Description: Super Bowl Winner 2024/2025\\nKey: aussierules_afl, Title: AFL, Description: Aussie Football\\nKey: baseball_mlb_world_series_winner, Title: MLB World Series Winner, Description: World Series Winner 2025\\nKey: basketball_nba, Title: NBA, Description: US Basketball\\nKey: basketball_nba_championship_winner, Title: NBA Championship Winner, Description: Championship Winner 2024/2025\\nKey: basketball_nbl, Title: NBL, Description: AU National Basketball League\\nKey: basketball_ncaab, Title: NCAAB, Description: US College Basketball\\nKey: basketball_ncaab_championship_winner, Title: NCAAB Championship Winner, Description: US College Basketball Championship Winner\\nKey: basketball_wncaab, Title: WNCAAB, Description: US Women's College Basketball\\nKey: boxing_boxing, Title: Boxing, Description: Boxing Bouts\\nKey: cricket_big_bash, Title: Big Bash, Description: Big Bash League\\nKey: cricket_odi, Title: One Day Internationals, Description: One Day Internationals\\nKey: cricket_test_match, Title: Test Matches, Description: International Test Matches\\nKey: golf_masters_tournament_winner, Title: Masters Tournament Winner, Description: 2025 Winner\\nKey: golf_pga_championship_winner, Title: PGA Championship Winner, Description: 2025 Winner\\nKey: golf_the_open_championship_winner, Title: The Open Winner, Description: 2025 Winner\\nKey: golf_us_open_winner, Title: US Open Winner, Description: 2025 Winner\\nKey: icehockey_nhl, Title: NHL, Description: US Ice Hockey\\nKey: icehockey_nhl_championship_winner, Title: NHL Championship Winner, Description: Stanley Cup Winner 2024/2025\\nKey: icehockey_sweden_allsvenskan, Title: HockeyAllsvenskan, Description: Swedish Hockey Allsvenskan\\nKey: icehockey_sweden_hockey_league, Title: SHL, Description: Swedish Hockey League\\nKey: mma_mixed_martial_arts, Title: MMA, Description: Mixed Martial Arts\\nKey: rugbyleague_nrl, Title: NRL, Description: Aussie Rugby League\\nKey: soccer_argentina_primera_division, Title: Primera División - Argentina, Description: Argentine Primera División\\nKey: soccer_australia_aleague, Title: A-League, Description: Aussie Soccer\\nKey: soccer_austria_bundesliga, Title: Austrian Football Bundesliga, Description: Austrian Soccer\\nKey: soccer_belgium_first_div, Title: Belgium First Div, Description: Belgian First Division A\\nKey: soccer_brazil_campeonato, Title: Brazil Série A, Description: Brasileirão Série A\\nKey: soccer_efl_champ, Title: Championship, Description: EFL Championship\\nKey: soccer_england_efl_cup, Title: EFL Cup, Description: League Cup\\nKey: soccer_england_league1, Title: League 1, Description: EFL League 1\\nKey: soccer_england_league2, Title: League 2, Description: EFL League 2 \\nKey: soccer_epl, Title: EPL, Description: English Premier League\\nKey: soccer_fa_cup, Title: FA Cup, Description: Football Association Challenge Cup\\nKey: soccer_fifa_world_cup_winner, Title: FIFA World Cup Winner, Description: FIFA World Cup Winner 2026\\nKey: soccer_france_ligue_one, Title: Ligue 1 - France, Description: French Soccer\\nKey: soccer_france_ligue_two, Title: Ligue 2 - France, Description: French Soccer\\nKey: soccer_germany_bundesliga, Title: Bundesliga - Germany, Description: German Soccer\\nKey: soccer_germany_bundesliga2, Title: Bundesliga 2 - Germany, Description: German Soccer\\nKey: soccer_germany_liga3, Title: 3. Liga - Germany, Description: German Soccer\\nKey: soccer_greece_super_league, Title: Super League - Greece, Description: Greek Soccer\\nKey: soccer_italy_serie_a, Title: Serie A - Italy, Description: Italian Soccer\\nKey: soccer_italy_serie_b, Title: Serie B - Italy, Description: Italian Soccer\\nKey: soccer_japan_j_league, Title: J League, Description: Japan Soccer League\\nKey: soccer_korea_kleague1, Title: K League 1, Description: Korean Soccer\\nKey: soccer_league_of_ireland, Title: League of Ireland, Description: Airtricity League Premier Division\\nKey: soccer_mexico_ligamx, Title: Liga MX, Description: Mexican Soccer\\nKey: soccer_netherlands_eredivisie, Title: Dutch Eredivisie, Description: Dutch Soccer\\nKey: soccer_poland_ekstraklasa, Title: Ekstraklasa - Poland, Description: Polish Soccer\\nKey: soccer_portugal_primeira_liga, Title: Primeira Liga - Portugal, Description: Portugese Soccer\\nKey: soccer_spain_la_liga, Title: La Liga - Spain, Description: Spanish Soccer\\nKey: soccer_spain_segunda_division, Title: La Liga 2 - Spain, Description: Spanish Soccer\\nKey: soccer_spl, Title: Premiership - Scotland, Description: Scottish Premiership\\nKey: soccer_switzerland_superleague, Title: Swiss Superleague, Description: Swiss Soccer\\nKey: soccer_turkey_super_league, Title: Turkey Super League, Description: Turkish Soccer\\nKey: soccer_uefa_champs_league, Title: UEFA Champions League, Description: European Champions League\\nKey: soccer_uefa_europa_conference_league, Title: UEFA Europa Conference League, Description: UEFA Europa Conference League\\nKey: soccer_uefa_europa_league, Title: UEFA Europa League, Description: European Europa League\\nKey: soccer_usa_mls, Title: MLS, Description: Major League Soccer\\n\""
      ]
     },
     "execution_count": 5,
     "metadata": {},
     "output_type": "execute_result"
    }
   ],
   "source": [
    "'''\n",
    "Key: americanfootball_ncaaf, Title: NCAAF, Description: US College Football\n",
    "Key: americanfootball_ncaaf_championship_winner, Title: NCAAF Championship Winner, Description: US College Football Championship Winner\n",
    "Key: americanfootball_nfl, Title: NFL, Description: US Football\n",
    "Key: americanfootball_nfl_super_bowl_winner, Title: NFL Super Bowl Winner, Description: Super Bowl Winner 2024/2025\n",
    "Key: aussierules_afl, Title: AFL, Description: Aussie Football\n",
    "Key: baseball_mlb_world_series_winner, Title: MLB World Series Winner, Description: World Series Winner 2025\n",
    "Key: basketball_nba, Title: NBA, Description: US Basketball\n",
    "Key: basketball_nba_championship_winner, Title: NBA Championship Winner, Description: Championship Winner 2024/2025\n",
    "Key: basketball_nbl, Title: NBL, Description: AU National Basketball League\n",
    "Key: basketball_ncaab, Title: NCAAB, Description: US College Basketball\n",
    "Key: basketball_ncaab_championship_winner, Title: NCAAB Championship Winner, Description: US College Basketball Championship Winner\n",
    "Key: basketball_wncaab, Title: WNCAAB, Description: US Women's College Basketball\n",
    "Key: boxing_boxing, Title: Boxing, Description: Boxing Bouts\n",
    "Key: cricket_big_bash, Title: Big Bash, Description: Big Bash League\n",
    "Key: cricket_odi, Title: One Day Internationals, Description: One Day Internationals\n",
    "Key: cricket_test_match, Title: Test Matches, Description: International Test Matches\n",
    "Key: golf_masters_tournament_winner, Title: Masters Tournament Winner, Description: 2025 Winner\n",
    "Key: golf_pga_championship_winner, Title: PGA Championship Winner, Description: 2025 Winner\n",
    "Key: golf_the_open_championship_winner, Title: The Open Winner, Description: 2025 Winner\n",
    "Key: golf_us_open_winner, Title: US Open Winner, Description: 2025 Winner\n",
    "Key: icehockey_nhl, Title: NHL, Description: US Ice Hockey\n",
    "Key: icehockey_nhl_championship_winner, Title: NHL Championship Winner, Description: Stanley Cup Winner 2024/2025\n",
    "Key: icehockey_sweden_allsvenskan, Title: HockeyAllsvenskan, Description: Swedish Hockey Allsvenskan\n",
    "Key: icehockey_sweden_hockey_league, Title: SHL, Description: Swedish Hockey League\n",
    "Key: mma_mixed_martial_arts, Title: MMA, Description: Mixed Martial Arts\n",
    "Key: rugbyleague_nrl, Title: NRL, Description: Aussie Rugby League\n",
    "Key: soccer_argentina_primera_division, Title: Primera División - Argentina, Description: Argentine Primera División\n",
    "Key: soccer_australia_aleague, Title: A-League, Description: Aussie Soccer\n",
    "Key: soccer_austria_bundesliga, Title: Austrian Football Bundesliga, Description: Austrian Soccer\n",
    "Key: soccer_belgium_first_div, Title: Belgium First Div, Description: Belgian First Division A\n",
    "Key: soccer_brazil_campeonato, Title: Brazil Série A, Description: Brasileirão Série A\n",
    "Key: soccer_efl_champ, Title: Championship, Description: EFL Championship\n",
    "Key: soccer_england_efl_cup, Title: EFL Cup, Description: League Cup\n",
    "Key: soccer_england_league1, Title: League 1, Description: EFL League 1\n",
    "Key: soccer_england_league2, Title: League 2, Description: EFL League 2 \n",
    "Key: soccer_epl, Title: EPL, Description: English Premier League\n",
    "Key: soccer_fa_cup, Title: FA Cup, Description: Football Association Challenge Cup\n",
    "Key: soccer_fifa_world_cup_winner, Title: FIFA World Cup Winner, Description: FIFA World Cup Winner 2026\n",
    "Key: soccer_france_ligue_one, Title: Ligue 1 - France, Description: French Soccer\n",
    "Key: soccer_france_ligue_two, Title: Ligue 2 - France, Description: French Soccer\n",
    "Key: soccer_germany_bundesliga, Title: Bundesliga - Germany, Description: German Soccer\n",
    "Key: soccer_germany_bundesliga2, Title: Bundesliga 2 - Germany, Description: German Soccer\n",
    "Key: soccer_germany_liga3, Title: 3. Liga - Germany, Description: German Soccer\n",
    "Key: soccer_greece_super_league, Title: Super League - Greece, Description: Greek Soccer\n",
    "Key: soccer_italy_serie_a, Title: Serie A - Italy, Description: Italian Soccer\n",
    "Key: soccer_italy_serie_b, Title: Serie B - Italy, Description: Italian Soccer\n",
    "Key: soccer_japan_j_league, Title: J League, Description: Japan Soccer League\n",
    "Key: soccer_korea_kleague1, Title: K League 1, Description: Korean Soccer\n",
    "Key: soccer_league_of_ireland, Title: League of Ireland, Description: Airtricity League Premier Division\n",
    "Key: soccer_mexico_ligamx, Title: Liga MX, Description: Mexican Soccer\n",
    "Key: soccer_netherlands_eredivisie, Title: Dutch Eredivisie, Description: Dutch Soccer\n",
    "Key: soccer_poland_ekstraklasa, Title: Ekstraklasa - Poland, Description: Polish Soccer\n",
    "Key: soccer_portugal_primeira_liga, Title: Primeira Liga - Portugal, Description: Portugese Soccer\n",
    "Key: soccer_spain_la_liga, Title: La Liga - Spain, Description: Spanish Soccer\n",
    "Key: soccer_spain_segunda_division, Title: La Liga 2 - Spain, Description: Spanish Soccer\n",
    "Key: soccer_spl, Title: Premiership - Scotland, Description: Scottish Premiership\n",
    "Key: soccer_switzerland_superleague, Title: Swiss Superleague, Description: Swiss Soccer\n",
    "Key: soccer_turkey_super_league, Title: Turkey Super League, Description: Turkish Soccer\n",
    "Key: soccer_uefa_champs_league, Title: UEFA Champions League, Description: European Champions League\n",
    "Key: soccer_uefa_europa_conference_league, Title: UEFA Europa Conference League, Description: UEFA Europa Conference League\n",
    "Key: soccer_uefa_europa_league, Title: UEFA Europa League, Description: European Europa League\n",
    "Key: soccer_usa_mls, Title: MLS, Description: Major League Soccer\n",
    "'''"
   ]
  }
 ],
 "metadata": {
  "kernelspec": {
   "display_name": "Python (myenv)",
   "language": "python",
   "name": "myenv"
  },
  "language_info": {
   "codemirror_mode": {
    "name": "ipython",
    "version": 3
   },
   "file_extension": ".py",
   "mimetype": "text/x-python",
   "name": "python",
   "nbconvert_exporter": "python",
   "pygments_lexer": "ipython3",
   "version": "3.9.20"
  }
 },
 "nbformat": 4,
 "nbformat_minor": 5
}
